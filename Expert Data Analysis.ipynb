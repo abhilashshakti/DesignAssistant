{
 "cells": [
  {
   "cell_type": "code",
   "execution_count": 1,
   "metadata": {
    "collapsed": true
   },
   "outputs": [],
   "source": [
    "import numpy as np\n",
    "import pandas as pd\n",
    "\n",
    "# ignoring the warnings\n",
    "import warnings\n",
    "warnings.filterwarnings('ignore')\n",
    "\n",
    "# We will display plots right inside Jupyter Notebook\n",
    "%matplotlib inline\n",
    "import matplotlib.pyplot as plt\n",
    "\n",
    "# We will use the Seaborn library\n",
    "import seaborn as sns\n",
    "sns.set()\n",
    "\n",
    "# Graphics in SVG format are more sharp and legible. Sometimes it can take longer to load.\n",
    "# Use : %config InlineBackend.figure_format = 'png' in that case\n",
    "%config InlineBackend.figure_format = 'svg'"
   ]
  },
  {
   "cell_type": "code",
   "execution_count": 2,
   "metadata": {
    "collapsed": true
   },
   "outputs": [],
   "source": [
    "df = pd.read_csv('Data/Expert_Opinions.csv')"
   ]
  },
  {
   "cell_type": "code",
   "execution_count": null,
   "metadata": {
    "collapsed": true
   },
   "outputs": [],
   "source": [
    "df = df.drop([0],axis=0) # deleting the heading row"
   ]
  },
  {
   "cell_type": "code",
   "execution_count": null,
   "metadata": {
    "scrolled": true
   },
   "outputs": [],
   "source": [
    "df.head()"
   ]
  },
  {
   "cell_type": "markdown",
   "metadata": {},
   "source": [
    "Each row represents an **Expert** entry and each column represents a **Participant** entry."
   ]
  },
  {
   "cell_type": "code",
   "execution_count": null,
   "metadata": {},
   "outputs": [],
   "source": [
    "df.columns"
   ]
  },
  {
   "cell_type": "code",
   "execution_count": null,
   "metadata": {},
   "outputs": [],
   "source": [
    "df = df.drop(['Unnamed: 1'],axis=1) # deleting the timestamp column"
   ]
  },
  {
   "cell_type": "code",
   "execution_count": null,
   "metadata": {
    "collapsed": true
   },
   "outputs": [],
   "source": [
    "df = df.dropna(axis=1)"
   ]
  },
  {
   "cell_type": "code",
   "execution_count": null,
   "metadata": {},
   "outputs": [],
   "source": [
    "df.head()"
   ]
  },
  {
   "cell_type": "markdown",
   "metadata": {},
   "source": [
    "So, we see that there are 120 columns. This is because there are 10 participants and 12 responses for each participants. The breakdown of questions are:\n",
    "- 1 question for choosing the better mockup.\n",
    "- 1 question for filling in the comments.\n",
    "- 5 questions with 2 subparts (one for each option)."
   ]
  },
  {
   "cell_type": "markdown",
   "metadata": {},
   "source": [
    "#### Creating meaningful columns"
   ]
  },
  {
   "cell_type": "code",
   "execution_count": null,
   "metadata": {
    "collapsed": true
   },
   "outputs": [],
   "source": [
    "# Setting the constants\n",
    "numQues = 5\n",
    "colsPerParticipant = 2*numQues + 2\n",
    "numParticipants = int(len(df.columns)/colsPerParticipant)"
   ]
  },
  {
   "cell_type": "code",
   "execution_count": null,
   "metadata": {},
   "outputs": [],
   "source": [
    "ques = ['Q' + str(i) for i in range(1,numQues+1)]\n",
    "part = ['P'+str(i) for i in range(1,numParticipants+1)]\n",
    "opt = ['O1','O2']\n",
    "design = [part[i]+'D' for i in range(len(part))]\n",
    "comments = [part[i]+'C' for i in range(len(part))] "
   ]
  },
  {
   "cell_type": "code",
   "execution_count": null,
   "metadata": {},
   "outputs": [],
   "source": [
    "design"
   ]
  },
  {
   "cell_type": "code",
   "execution_count": null,
   "metadata": {
    "collapsed": true
   },
   "outputs": [],
   "source": [
    "tmp = [part[j] + ques[i] for j in range(len(part)) for i in range(len(ques))]\n",
    "tmp = [tmp[i] + opt[j] for i in range(len(tmp)) for j in range(len(opt))]"
   ]
  },
  {
   "cell_type": "code",
   "execution_count": null,
   "metadata": {
    "collapsed": true
   },
   "outputs": [],
   "source": [
    "final = []\n",
    "k = 0\n",
    "for i in range(len(tmp)):\n",
    "    if i%10 == 0:\n",
    "        final.append(design[k])\n",
    "        final.append(comments[k])\n",
    "        k += 1\n",
    "    final.append(tmp[i])"
   ]
  },
  {
   "cell_type": "code",
   "execution_count": null,
   "metadata": {},
   "outputs": [],
   "source": [
    "(final[12:24])"
   ]
  },
  {
   "cell_type": "markdown",
   "metadata": {},
   "source": [
    "Above are the values collected for each participant. Each participant will have 12 questions and 1 column for each question. Hence, we have 120 columns for 10 participants. Here, the nomenclature is such:\n",
    "* P1D: For participant1 what is the design preference\n",
    "* P1C: For participant1 what are the comments\n",
    "* P1Q1O1: For participant1 question1 option1 what is the rating given\n",
    "* P1Q1O2: For participant1 question1 option2 what is the rating given"
   ]
  },
  {
   "cell_type": "code",
   "execution_count": null,
   "metadata": {},
   "outputs": [],
   "source": [
    "df.columns = final"
   ]
  },
  {
   "cell_type": "code",
   "execution_count": null,
   "metadata": {},
   "outputs": [],
   "source": [
    "df.iloc[:5,:20]"
   ]
  },
  {
   "cell_type": "code",
   "execution_count": null,
   "metadata": {},
   "outputs": [],
   "source": [
    "optionsdict = {'Option 1':1,'Option 2':2}\n",
    "for c in df.columns:\n",
    "    if c[-1] == 'D': df = df.replace({c:optionsdict})\n",
    "# replace the columns with design choices (ends with 'D') \n",
    "# between option 1 & 2 with numeric values (makes understanding easy)"
   ]
  },
  {
   "cell_type": "code",
   "execution_count": null,
   "metadata": {},
   "outputs": [],
   "source": [
    "df.iloc[:5,:20]"
   ]
  },
  {
   "cell_type": "code",
   "execution_count": null,
   "metadata": {
    "collapsed": true
   },
   "outputs": [],
   "source": [
    "designmap = pd.read_csv('Participant_Design_Map.csv')\n",
    "[designmap] = designmap.values.T.tolist()"
   ]
  },
  {
   "cell_type": "code",
   "execution_count": null,
   "metadata": {},
   "outputs": [],
   "source": [
    "designmap"
   ]
  },
  {
   "cell_type": "markdown",
   "metadata": {},
   "source": [
    "#### Separate the designs with Assistant and designs without Assistant"
   ]
  },
  {
   "cell_type": "code",
   "execution_count": null,
   "metadata": {},
   "outputs": [],
   "source": [
    "with_assistant_cols = []\n",
    "without_assistant_cols = []\n",
    "k = 0\n",
    "for c in df.columns:\n",
    "    # Uncomment the lines below to add the cols which donot contain 'O' (the 'D' and 'C' cols)\n",
    "    if 'O' not in c:\n",
    "        ;\n",
    "#         with_assistant_cols.append(c)\n",
    "#         without_assistant_cols.append(c)\n",
    "    # condition for design drawn with the assistant\n",
    "    elif (c.endswith('1') and designmap[k] == 1)\\\n",
    "         or (c.endswith('2') and designmap[k] == 0):\n",
    "        with_assistant_cols.append(c)\n",
    "    # condition for design drawn without the assistant\n",
    "    else:\n",
    "        without_assistant_cols.append(c)\n",
    "    \n",
    "    if (df.columns.get_loc(c) + 1)%(colsPerParticipant) == 0: k += 1"
   ]
  },
  {
   "cell_type": "code",
   "execution_count": null,
   "metadata": {},
   "outputs": [],
   "source": [
    "wi_df = df[with_assistant_cols]\n",
    "wo_df = df[without_assistant_cols]"
   ]
  },
  {
   "cell_type": "markdown",
   "metadata": {},
   "source": [
    "- *wi_df* is the dataframe for designs drawn with the assistant \n",
    "- *wo_df* is the dataframe for designs drawn without the assistant"
   ]
  },
  {
   "cell_type": "code",
   "execution_count": null,
   "metadata": {
    "scrolled": true
   },
   "outputs": [],
   "source": [
    "wi_df.describe()"
   ]
  },
  {
   "cell_type": "markdown",
   "metadata": {},
   "source": [
    "## Visualization"
   ]
  },
  {
   "cell_type": "code",
   "execution_count": null,
   "metadata": {
    "collapsed": true
   },
   "outputs": [],
   "source": [
    "# Getting rid of the 'P*' and 'O*' substrings\n",
    "wi_df.columns = [x[-4:-2] for x in wi_df.columns]\n",
    "wo_df.columns = [x[-4:-2] for x in wo_df.columns]"
   ]
  },
  {
   "cell_type": "code",
   "execution_count": null,
   "metadata": {
    "scrolled": true
   },
   "outputs": [],
   "source": [
    "wi_df.iloc[:5,:]"
   ]
  },
  {
   "cell_type": "code",
   "execution_count": null,
   "metadata": {},
   "outputs": [],
   "source": [
    "# Grouping across different participants for question\n",
    "wi_df_grouped_mean = wi_df.groupby(wi_df.columns, axis=1).mean()\n",
    "wo_df_grouped_mean = wo_df.groupby(wo_df.columns, axis=1).mean()\n",
    "# Taking mean for each question\n",
    "wo_df_mean = wo_df_grouped.mean()\n",
    "wi_df_mean = wi_df_grouped.mean()"
   ]
  },
  {
   "cell_type": "code",
   "execution_count": null,
   "metadata": {
    "collapsed": true
   },
   "outputs": [],
   "source": [
    "# Similar to above, taking medians of median\n",
    "wi_df_grouped_median = wi_df.groupby(wi_df.columns, axis=1).median()\n",
    "wo_df_grouped_median = wo_df.groupby(wo_df.columns, axis=1).median()\n",
    "wo_df_median = wo_df_grouped.median()\n",
    "wi_df_median = wi_df_grouped.median()"
   ]
  },
  {
   "cell_type": "code",
   "execution_count": null,
   "metadata": {
    "scrolled": true
   },
   "outputs": [],
   "source": [
    "ques_df_mean = pd.DataFrame([wo_df_mean, wi_df_mean]).T\n",
    "ques_df_mean # col-0: Without the assistant, col-1: With the assistant"
   ]
  },
  {
   "cell_type": "code",
   "execution_count": null,
   "metadata": {},
   "outputs": [],
   "source": [
    "ques_df_median = pd.DataFrame([wo_df_median, wi_df_median]).T\n",
    "ques_df_median # col-0: Without the assistant, col-1: With the assistant"
   ]
  },
  {
   "cell_type": "code",
   "execution_count": null,
   "metadata": {
    "scrolled": true
   },
   "outputs": [],
   "source": [
    "def plot_ques_wise(df,ylabel):\n",
    "    labels = ['Usability','Completeness','Familiarity','Atractiveness','Consistency']\n",
    "    df.plot(kind='bar')\n",
    "    plt.legend(['Without Assistant','With Assistant'])\n",
    "    plt.xticks(range(5), labels, rotation=10)\n",
    "    plt.xlabel('Parameters')\n",
    "    plt.ylabel(ylabel)"
   ]
  },
  {
   "cell_type": "markdown",
   "metadata": {},
   "source": [
    "### TODO: Add labels and whiskers to each bar"
   ]
  },
  {
   "cell_type": "code",
   "execution_count": null,
   "metadata": {},
   "outputs": [],
   "source": [
    "plot_ques_wise(ques_df_mean,'Mean Rating')"
   ]
  },
  {
   "cell_type": "code",
   "execution_count": null,
   "metadata": {},
   "outputs": [],
   "source": [
    "plot_ques_wise(ques_df_median, 'Median Rating')"
   ]
  },
  {
   "cell_type": "markdown",
   "metadata": {},
   "source": [
    "### What are the other kinds of plots that can be drawn from experts data?"
   ]
  },
  {
   "cell_type": "code",
   "execution_count": null,
   "metadata": {
    "collapsed": true
   },
   "outputs": [],
   "source": []
  }
 ],
 "metadata": {
  "kernelspec": {
   "display_name": "Python 3",
   "language": "python",
   "name": "python3"
  },
  "language_info": {
   "codemirror_mode": {
    "name": "ipython",
    "version": 3
   },
   "file_extension": ".py",
   "mimetype": "text/x-python",
   "name": "python",
   "nbconvert_exporter": "python",
   "pygments_lexer": "ipython3",
   "version": "3.6.1"
  }
 },
 "nbformat": 4,
 "nbformat_minor": 2
}
